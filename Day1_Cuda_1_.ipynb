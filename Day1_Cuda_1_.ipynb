{
  "nbformat": 4,
  "nbformat_minor": 0,
  "metadata": {
    "colab": {
      "provenance": [],
      "gpuType": "T4"
    },
    "kernelspec": {
      "name": "python3",
      "display_name": "Python 3"
    },
    "language_info": {
      "name": "python"
    },
    "accelerator": "GPU"
  },
  "cells": [
    {
      "cell_type": "code",
      "execution_count": 1,
      "metadata": {
        "colab": {
          "base_uri": "https://localhost:8080/"
        },
        "id": "n42oPwJI64Xj",
        "outputId": "8712ab25-7b2e-4395-b4f2-9b20d63b03ac"
      },
      "outputs": [
        {
          "output_type": "stream",
          "name": "stdout",
          "text": [
            "Writing vector_add.cu\n"
          ]
        }
      ],
      "source": [
        "%%writefile vector_add.cu\n",
        "#include <iostream>\n",
        "#include <cuda_runtime.h>  // Optional but recommended\n",
        "\n",
        "__global__ void vectorAdd(const float* A, const float* B, float* C, int N) {\n",
        "    int i = blockIdx.x * blockDim.x + threadIdx.x;\n",
        "    if (i < N) {\n",
        "        C[i] = A[i] + B[i];\n",
        "    }\n",
        "}\n",
        "\n",
        "int main() {\n",
        "    const int N = 10;\n",
        "    float A[N], B[N], C[N];\n",
        "\n",
        "    // Initialize input arrays\n",
        "    for (int i = 0; i < N; i++) {\n",
        "        A[i] = i;\n",
        "        B[i] = i * 2;\n",
        "    }\n",
        "\n",
        "    float *d_a, *d_b, *d_c;\n",
        "    cudaMalloc(&d_a, N * sizeof(float));\n",
        "    cudaMalloc(&d_b, N * sizeof(float));\n",
        "    cudaMalloc(&d_c, N * sizeof(float));\n",
        "\n",
        "    cudaMemcpy(d_a, A, N * sizeof(float), cudaMemcpyHostToDevice);\n",
        "    cudaMemcpy(d_b, B, N * sizeof(float), cudaMemcpyHostToDevice);\n",
        "\n",
        "    int blocksize = 256;\n",
        "    int gridsize = (N + blocksize - 1) / blocksize;\n",
        "\n",
        "    vectorAdd<<<gridsize, blocksize>>>(d_a, d_b, d_c, N);\n",
        "    cudaDeviceSynchronize();  // Ensure kernel completes before copying back\n",
        "\n",
        "    cudaMemcpy(C, d_c, N * sizeof(float), cudaMemcpyDeviceToHost);\n",
        "\n",
        "    // Print the result\n",
        "    for (int i = 0; i < N; i++) {\n",
        "        std::cout << A[i] << \" + \" << B[i] << \" = \" << C[i] << std::endl;\n",
        "    }\n",
        "\n",
        "    cudaFree(d_a);\n",
        "    cudaFree(d_b);\n",
        "    cudaFree(d_c);\n",
        "\n",
        "    return 0;\n",
        "}\n"
      ]
    },
    {
      "cell_type": "code",
      "source": [
        "# Compile with the specified architecture\n",
        "!nvcc vector_add.cu -o vector_add -gencode arch=compute_75,code=sm_75\n",
        "\n",
        "# Run the executable\n",
        "!./vector_add\n"
      ],
      "metadata": {
        "colab": {
          "base_uri": "https://localhost:8080/"
        },
        "id": "3mK6wlOrCPvu",
        "outputId": "fbda56cb-1663-402b-d3c6-3f09b8b5140d"
      },
      "execution_count": 2,
      "outputs": [
        {
          "output_type": "stream",
          "name": "stdout",
          "text": [
            "0 + 0 = 0\n",
            "1 + 2 = 3\n",
            "2 + 4 = 6\n",
            "3 + 6 = 9\n",
            "4 + 8 = 12\n",
            "5 + 10 = 15\n",
            "6 + 12 = 18\n",
            "7 + 14 = 21\n",
            "8 + 16 = 24\n",
            "9 + 18 = 27\n"
          ]
        }
      ]
    }
  ]
}