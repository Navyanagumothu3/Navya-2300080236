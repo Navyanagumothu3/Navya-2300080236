{
  "nbformat": 4,
  "nbformat_minor": 0,
  "metadata": {
    "colab": {
      "provenance": []
    },
    "kernelspec": {
      "name": "python3",
      "display_name": "Python 3"
    },
    "language_info": {
      "name": "python"
    }
  },
  "cells": [
    {
      "cell_type": "code",
      "execution_count": 10,
      "metadata": {
        "colab": {
          "base_uri": "https://localhost:8080/"
        },
        "id": "DPKt2DiibqHa",
        "outputId": "84c48d69-9295-4c3c-a55e-ba6dae8940f1"
      },
      "outputs": [
        {
          "output_type": "stream",
          "name": "stdout",
          "text": [
            "Overwriting vector_add.cu\n"
          ]
        }
      ],
      "source": [
        "%%writefile vector_add.cu\n",
        "#include <iostream>\n",
        "#include <cuda.h>\n",
        "#include <math.h>\n",
        "\n",
        "__global__ void MatrixAdd_B(const float* A, const float* B, float* C, int N) {\n",
        "    int i = blockIdx.x * blockDim.x + threadIdx.x;\n",
        "    int j = blockIdx.y * blockDim.y + threadIdx.y;\n",
        "    if (i >= N || j >= N) return;\n",
        "    C[i * N + j] = A[i * N + j] + B[i * N + j];\n",
        "}\n",
        "\n",
        "int main() {\n",
        "    const int N = 10;\n",
        "    float *A, *B, *C;\n",
        "    A = (float *)malloc(N * N * sizeof(float));\n",
        "    B = (float *)malloc(N * N * sizeof(float));\n",
        "    C = (float *)malloc(N * N * sizeof(float));\n",
        "\n",
        "    for (int i = 0; i < N; i++)\n",
        "        for (int j = 0; j < N; j++) {\n",
        "            A[i * N + j] = 1.0f;\n",
        "            B[i * N + j] = 2.0f;\n",
        "            C[i * N + j] = 0.0f;\n",
        "        }\n",
        "\n",
        "    float *d_a, *d_b, *d_c;\n",
        "    cudaMalloc((void **)&d_a, N * N * sizeof(float));\n",
        "    cudaMalloc((void **)&d_b, N * N * sizeof(float));\n",
        "    cudaMalloc((void **)&d_c, N * N * sizeof(float));\n",
        "\n",
        "    cudaMemcpy(d_a, A, N * N * sizeof(float), cudaMemcpyHostToDevice);\n",
        "    cudaMemcpy(d_b, B, N * N * sizeof(float), cudaMemcpyHostToDevice);\n",
        "\n",
        "    dim3 dimBlock(32, 16);\n",
        "    dim3 dimGrid(ceil(N / 32.0f), ceil(N / 16.0f));\n",
        "    MatrixAdd_B<<<dimGrid, dimBlock>>>(d_a, d_b, d_c, N);\n",
        "    cudaDeviceSynchronize();\n",
        "\n",
        "    cudaMemcpy(C, d_c, N * N * sizeof(float), cudaMemcpyDeviceToHost);\n",
        "\n",
        "    printf(\"C:\\n\");\n",
        "    for (int i = 0; i < N; i++) {\n",
        "        for (int j = 0; j < N; j++) {\n",
        "            printf(\"%.2f \", B[i * N + j]);\n",
        "        }\n",
        "        printf(\"\\n\");\n",
        "    }\n",
        "\n",
        "    cudaFree(d_a);\n",
        "    cudaFree(d_b);\n",
        "    cudaFree(d_c);\n",
        "    free(A);\n",
        "    free(B);\n",
        "    free(C);\n",
        "}\n"
      ]
    },
    {
      "cell_type": "code",
      "source": [
        "# Compile with the specified architecture\n",
        "!nvcc vector_add.cu -o vector_add -gencode arch=compute_75,code=sm_75\n",
        "\n",
        "# Run the executable\n",
        "!./vector_add\n"
      ],
      "metadata": {
        "colab": {
          "base_uri": "https://localhost:8080/"
        },
        "id": "fFOyFm5Vcwuh",
        "outputId": "ad776915-b544-4d66-f37b-0ab958232320"
      },
      "execution_count": 11,
      "outputs": [
        {
          "output_type": "stream",
          "name": "stdout",
          "text": [
            "C:\n",
            "2.00 2.00 2.00 2.00 2.00 2.00 2.00 2.00 2.00 2.00 \n",
            "2.00 2.00 2.00 2.00 2.00 2.00 2.00 2.00 2.00 2.00 \n",
            "2.00 2.00 2.00 2.00 2.00 2.00 2.00 2.00 2.00 2.00 \n",
            "2.00 2.00 2.00 2.00 2.00 2.00 2.00 2.00 2.00 2.00 \n",
            "2.00 2.00 2.00 2.00 2.00 2.00 2.00 2.00 2.00 2.00 \n",
            "2.00 2.00 2.00 2.00 2.00 2.00 2.00 2.00 2.00 2.00 \n",
            "2.00 2.00 2.00 2.00 2.00 2.00 2.00 2.00 2.00 2.00 \n",
            "2.00 2.00 2.00 2.00 2.00 2.00 2.00 2.00 2.00 2.00 \n",
            "2.00 2.00 2.00 2.00 2.00 2.00 2.00 2.00 2.00 2.00 \n",
            "2.00 2.00 2.00 2.00 2.00 2.00 2.00 2.00 2.00 2.00 \n"
          ]
        }
      ]
    }
  ]
}