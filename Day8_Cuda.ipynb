{
  "nbformat": 4,
  "nbformat_minor": 0,
  "metadata": {
    "colab": {
      "provenance": [],
      "gpuType": "T4"
    },
    "kernelspec": {
      "name": "python3",
      "display_name": "Python 3"
    },
    "language_info": {
      "name": "python"
    },
    "accelerator": "GPU"
  },
  "cells": [
    {
      "cell_type": "code",
      "execution_count": 5,
      "metadata": {
        "colab": {
          "base_uri": "https://localhost:8080/"
        },
        "id": "pFYXdtoI-BNE",
        "outputId": "b5dc1dce-d859-4797-862e-cd54ce881e15"
      },
      "outputs": [
        {
          "output_type": "stream",
          "name": "stdout",
          "text": [
            "Writing prefixsum_brent_kung_algorithm.cu\n"
          ]
        }
      ],
      "source": [
        "%%writefile prefixsum_brent_kung_algorithm.cu\n",
        "#define LOAD_SIZE 64\n",
        "#include <iostream>\n",
        "#include <cuda_runtime.h>\n",
        "\n",
        "__global__ void prefixsum_kernel(float* A, float* C, int N) {\n",
        "    int tid = threadIdx.x;\n",
        "    int i = 2 * blockDim.x * blockIdx.x + tid;\n",
        "\n",
        "    __shared__ float S_A[LOAD_SIZE];\n",
        "\n",
        "    if (i < N) S_A[tid] = A[i];\n",
        "    else S_A[tid] = 0.0f;\n",
        "\n",
        "    if (i + blockDim.x < N) S_A[tid + blockDim.x] = A[i + blockDim.x];\n",
        "    else S_A[tid + blockDim.x] = 0.0f;\n",
        "\n",
        "    __syncthreads();\n",
        "\n",
        "    for (int d = 1; d < LOAD_SIZE; d *= 2) {\n",
        "        int j = (tid + 1) * 2 * d - 1;\n",
        "        if (j < LOAD_SIZE) {\n",
        "            S_A[j] += S_A[j - d];\n",
        "        }\n",
        "        __syncthreads();\n",
        "    }\n",
        "\n",
        "    for (int d = LOAD_SIZE / 4; d >= 1; d /= 2) {\n",
        "        int j = (tid + 1) * 2 * d - 1;\n",
        "        if (j + d < LOAD_SIZE) {\n",
        "            S_A[j + d] += S_A[j];\n",
        "        }\n",
        "        __syncthreads();\n",
        "    }\n",
        "\n",
        "    if (i < N) C[i] = S_A[tid];\n",
        "    if (i + blockDim.x < N) C[i + blockDim.x] = S_A[tid + blockDim.x];\n",
        "}\n",
        "\n",
        "void checkCudaError(const char* message) {\n",
        "    cudaError_t error = cudaGetLastError();\n",
        "    if (error != cudaSuccess) {\n",
        "        printf(\"CUDA error (%s): %s\\n\", message, cudaGetErrorString(error));\n",
        "        exit(-1);\n",
        "    }\n",
        "}\n",
        "\n",
        "int main() {\n",
        "    int N = 10;\n",
        "    float A[N], C[N];\n",
        "\n",
        "    for (int i = 0; i < N; i++) A[i] = i + 1.0f;\n",
        "\n",
        "    float* d_A;\n",
        "    float* d_C;\n",
        "    cudaMalloc(&d_A, N * sizeof(float));\n",
        "    cudaMalloc(&d_C, N * sizeof(float));\n",
        "    cudaMemcpy(d_A, A, N * sizeof(float), cudaMemcpyHostToDevice);\n",
        "    checkCudaError(\"Failed to copy input data to device\");\n",
        "\n",
        "    dim3 dimBlock(LOAD_SIZE / 2);\n",
        "    dim3 dimGrid((N + LOAD_SIZE - 1) / LOAD_SIZE);\n",
        "    prefixsum_kernel<<<dimGrid, dimBlock>>>(d_A, d_C, N);\n",
        "    checkCudaError(\"Failed to execute the kernel\");\n",
        "\n",
        "    cudaDeviceSynchronize();\n",
        "    cudaMemcpy(C, d_C, N * sizeof(float), cudaMemcpyDeviceToHost);\n",
        "    checkCudaError(\"Failed to copy output data to host\");\n",
        "\n",
        "    cudaFree(d_A);\n",
        "    cudaFree(d_C);\n",
        "\n",
        "    printf(\"A:\\n\");\n",
        "    for (int i = 0; i < N; i++) {\n",
        "        printf(\"%.2f \", A[i]);\n",
        "    }\n",
        "\n",
        "    printf(\"\\nC:\\n\");\n",
        "    for (int i = 0; i < N; i++) {\n",
        "        printf(\"%.2f \", C[i]);\n",
        "    }\n",
        "\n",
        "    return 0;\n",
        "}\n"
      ]
    },
    {
      "cell_type": "code",
      "source": [
        "# Compile with the specified architecture\n",
        "!nvcc prefixsum_brent_kung_algorithm.cu -o prefixsum_brent_kung_algorithm -gencode arch=compute_75,code=sm_75\n",
        "\n",
        "# Run the executable\n",
        "!./prefixsum_brent_kung_algorithm\n"
      ],
      "metadata": {
        "colab": {
          "base_uri": "https://localhost:8080/"
        },
        "id": "SrcmXR8L-MC4",
        "outputId": "e3025b27-daaa-4928-8722-29bd668b9730"
      },
      "execution_count": 6,
      "outputs": [
        {
          "output_type": "stream",
          "name": "stdout",
          "text": [
            "A:\n",
            "1.00 2.00 3.00 4.00 5.00 6.00 7.00 8.00 9.00 10.00 \n",
            "C:\n",
            "1.00 3.00 6.00 10.00 15.00 21.00 28.00 36.00 45.00 55.00 "
          ]
        }
      ]
    }
  ]
}