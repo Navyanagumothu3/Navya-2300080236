{
  "nbformat": 4,
  "nbformat_minor": 0,
  "metadata": {
    "colab": {
      "provenance": [],
      "gpuType": "T4"
    },
    "kernelspec": {
      "name": "python3",
      "display_name": "Python 3"
    },
    "language_info": {
      "name": "python"
    },
    "accelerator": "GPU"
  },
  "cells": [
    {
      "cell_type": "code",
      "execution_count": 1,
      "metadata": {
        "colab": {
          "base_uri": "https://localhost:8080/"
        },
        "id": "bgSJ9xFcmovm",
        "outputId": "6a0c48b7-c6de-450e-99b5-90aef4282720"
      },
      "outputs": [
        {
          "output_type": "stream",
          "name": "stdout",
          "text": [
            "Writing partial_Sum.cu\n"
          ]
        }
      ],
      "source": [
        "%%writefile partial_Sum.cu\n",
        "#include <stdio.h>\n",
        "#include <cuda.h>\n",
        "\n",
        "__global__ void partialSumKernel(int *input, int *output, int n) {\n",
        "    extern __shared__ int sharedMemory[];\n",
        "\n",
        "    int tid = threadIdx.x;\n",
        "    int index = blockIdx.x * blockDim.x * 2 + tid;\n",
        "\n",
        "    if (index + blockDim.x < n) {\n",
        "        sharedMemory[tid] = input[index] + input[index + blockDim.x];\n",
        "        __syncthreads();\n",
        "\n",
        "        for (int stride = 1; stride < blockDim.x; stride *= 2) {\n",
        "            int temp = 0;\n",
        "            if (tid >= stride) {\n",
        "                temp = sharedMemory[tid - stride];\n",
        "            }\n",
        "            __syncthreads();\n",
        "            sharedMemory[tid] += temp;\n",
        "            __syncthreads();\n",
        "        }\n",
        "\n",
        "        output[index] = sharedMemory[tid];\n",
        "    }\n",
        "}\n",
        "\n",
        "int main() {\n",
        "    const int N = 16;\n",
        "    const int blockSize = 8;\n",
        "\n",
        "    int h_input[N] = {1, 2, 3, 4, 5, 6, 7, 8, 9, 10, 11, 12, 13, 14, 15, 16};\n",
        "    int h_output[N] = {0};\n",
        "\n",
        "    int *d_input, *d_output;\n",
        "    size_t size = N * sizeof(int);\n",
        "\n",
        "    cudaMalloc(&d_input, size);\n",
        "    cudaMalloc(&d_output, size);\n",
        "\n",
        "    cudaMemcpy(d_input, h_input, size, cudaMemcpyHostToDevice);\n",
        "\n",
        "    partialSumKernel<<<N / (2 * blockSize), blockSize, blockSize * sizeof(int)>>>(d_input, d_output, N);\n",
        "\n",
        "    cudaMemcpy(h_output, d_output, size, cudaMemcpyDeviceToHost);\n",
        "\n",
        "    printf(\"Input: \");\n",
        "    for (int i = 0; i < N; i++) {\n",
        "        printf(\"%d \", h_input[i]);\n",
        "    }\n",
        "\n",
        "    printf(\"\\nOutput: \");\n",
        "    for (int i = 0; i < N; i++) {\n",
        "        printf(\"%d \", h_output[i]);\n",
        "    }\n",
        "\n",
        "    printf(\"\\n\");\n",
        "\n",
        "    cudaFree(d_input);\n",
        "    cudaFree(d_output);\n",
        "\n",
        "    return 0;\n",
        "}\n"
      ]
    },
    {
      "cell_type": "code",
      "source": [
        "# Compile with the specified architecture\n",
        "!nvcc partial_Sum.cu -o partial_Sum -gencode arch=compute_75,code=sm_75\n",
        "\n",
        "# Run the executable\n",
        "!./partial_Sum\n"
      ],
      "metadata": {
        "colab": {
          "base_uri": "https://localhost:8080/"
        },
        "id": "QZoWj9hAp2ll",
        "outputId": "dc81a3ed-88ee-4f21-bc3f-e42b998c38cb"
      },
      "execution_count": 2,
      "outputs": [
        {
          "output_type": "stream",
          "name": "stdout",
          "text": [
            "Input: 1 2 3 4 5 6 7 8 9 10 11 12 13 14 15 16 \n",
            "Output: 10 22 36 52 70 90 112 136 0 0 0 0 0 0 0 0 \n"
          ]
        }
      ]
    }
  ]
}